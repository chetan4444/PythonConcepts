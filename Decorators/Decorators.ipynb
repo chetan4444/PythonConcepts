{
 "cells": [
  {
   "cell_type": "code",
   "execution_count": 5,
   "id": "b9f35abf",
   "metadata": {},
   "outputs": [],
   "source": [
    "def outer(func):\n",
    "    def wrapper(a):\n",
    "        a = a + 1000\n",
    "        func(a)\n",
    "    return wrapper\n",
    "\n",
    "def divi(a):\n",
    "    print(\"Value of a: \", a)\n"
   ]
  },
  {
   "cell_type": "code",
   "execution_count": 6,
   "id": "5aba8c61",
   "metadata": {},
   "outputs": [
    {
     "name": "stdout",
     "output_type": "stream",
     "text": [
      "Value of a:  10\n"
     ]
    }
   ],
   "source": [
    "divi(10)"
   ]
  },
  {
   "cell_type": "code",
   "execution_count": 7,
   "id": "5f10a122",
   "metadata": {},
   "outputs": [],
   "source": [
    "def outer(func):\n",
    "    def wrapper(a):\n",
    "        a = a + 1000\n",
    "        func(a)\n",
    "    return wrapper\n",
    "\n",
    "@outer\n",
    "def divi(a):\n",
    "    print(\"Value of a: \", a)"
   ]
  },
  {
   "cell_type": "code",
   "execution_count": 8,
   "id": "28033920",
   "metadata": {},
   "outputs": [
    {
     "name": "stdout",
     "output_type": "stream",
     "text": [
      "Value of a:  1010\n"
     ]
    }
   ],
   "source": [
    "divi(10)"
   ]
  },
  {
   "cell_type": "code",
   "execution_count": 10,
   "id": "727f0563",
   "metadata": {},
   "outputs": [
    {
     "data": {
      "text/plain": [
       "array([1, 2, 3, 4, 5])"
      ]
     },
     "execution_count": 10,
     "metadata": {},
     "output_type": "execute_result"
    }
   ],
   "source": [
    "l = [1, 2, 3, 4, 5]\n",
    "k = [0, 3, 4]\n",
    "\n",
    "import numpy as np\n",
    "\n",
    "l = np.array(l)\n",
    "l"
   ]
  },
  {
   "cell_type": "code",
   "execution_count": 12,
   "id": "69281f9b",
   "metadata": {},
   "outputs": [
    {
     "data": {
      "text/plain": [
       "np.int64(10)"
      ]
     },
     "execution_count": 12,
     "metadata": {},
     "output_type": "execute_result"
    }
   ],
   "source": [
    "np.sum(l[k])"
   ]
  },
  {
   "cell_type": "code",
   "execution_count": 4,
   "id": "812a4348",
   "metadata": {},
   "outputs": [
    {
     "data": {
      "text/plain": [
       "'abcd'"
      ]
     },
     "execution_count": 4,
     "metadata": {},
     "output_type": "execute_result"
    }
   ],
   "source": [
    "string = \"abcdacced\"\n",
    "\n",
    "string_ = \"\"\n",
    "\n",
    "for char in string:\n",
    "    if char in string_:\n",
    "        break\n",
    "        \n",
    "    else:\n",
    "        string_ += char\n",
    "\n",
    "string_"
   ]
  },
  {
   "cell_type": "code",
   "execution_count": 2,
   "id": "cc1fd268",
   "metadata": {},
   "outputs": [
    {
     "name": "stdout",
     "output_type": "stream",
     "text": [
      "Shyam Shyam 0 \n",
      "\n"
     ]
    }
   ],
   "source": [
    "with open(\"Ram.txt\", 'r') as f:\n",
    "    print(next(f))"
   ]
  },
  {
   "cell_type": "code",
   "execution_count": 5,
   "id": "3ef68754",
   "metadata": {},
   "outputs": [],
   "source": [
    "import datetime"
   ]
  },
  {
   "cell_type": "code",
   "execution_count": 8,
   "id": "a01f8258",
   "metadata": {},
   "outputs": [
    {
     "name": "stdout",
     "output_type": "stream",
     "text": [
      "0:00:00.000925\n"
     ]
    }
   ],
   "source": [
    "start = datetime.datetime.now()\n",
    "\n",
    "for _ in range(10_000):\n",
    "    pass\n",
    "\n",
    "end = datetime.datetime.now()\n",
    "\n",
    "print(end - start)"
   ]
  },
  {
   "cell_type": "code",
   "execution_count": null,
   "id": "b46aec2c",
   "metadata": {},
   "outputs": [],
   "source": [
    "end = "
   ]
  }
 ],
 "metadata": {
  "kernelspec": {
   "display_name": "python313",
   "language": "python",
   "name": "python3"
  },
  "language_info": {
   "codemirror_mode": {
    "name": "ipython",
    "version": 3
   },
   "file_extension": ".py",
   "mimetype": "text/x-python",
   "name": "python",
   "nbconvert_exporter": "python",
   "pygments_lexer": "ipython3",
   "version": "3.13.1"
  }
 },
 "nbformat": 4,
 "nbformat_minor": 5
}
