{
 "cells": [
  {
   "cell_type": "code",
   "execution_count": 1,
   "id": "fffa1658",
   "metadata": {},
   "outputs": [],
   "source": [
    "import logging\n",
    "from logging.handlers import TimedRotatingFileHandler\n",
    "\n",
    "logger = logging.getLogger()\n",
    "logger.setLevel(logging.INFO)\n",
    "\n",
    "handler = TimedRotatingFileHandler(\n",
    "    filename=\"app.log\",\n",
    "    when='midnight',\n",
    "    backupCount=7,\n",
    "    encoding='utf 8'\n",
    ")\n",
    "\n",
    "formatter = logging.Formatter(\"%(asctime)s [%(levelname)s] %(message)s\")\n",
    "handler.setFormatter(formatter)\n",
    "\n",
    "logger.addHandler(handler)\n"
   ]
  },
  {
   "cell_type": "code",
   "execution_count": 3,
   "id": "60cbe329",
   "metadata": {},
   "outputs": [],
   "source": [
    "a = 10\n",
    "logger.info(f\"Hare Krishna, {a}\")"
   ]
  },
  {
   "cell_type": "code",
   "execution_count": null,
   "id": "e14f7737",
   "metadata": {},
   "outputs": [],
   "source": []
  }
 ],
 "metadata": {
  "kernelspec": {
   "display_name": "python313",
   "language": "python",
   "name": "python3"
  },
  "language_info": {
   "codemirror_mode": {
    "name": "ipython",
    "version": 3
   },
   "file_extension": ".py",
   "mimetype": "text/x-python",
   "name": "python",
   "nbconvert_exporter": "python",
   "pygments_lexer": "ipython3",
   "version": "3.13.1"
  }
 },
 "nbformat": 4,
 "nbformat_minor": 5
}
