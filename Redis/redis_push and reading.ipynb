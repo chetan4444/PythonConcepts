{
 "cells": [
  {
   "cell_type": "code",
   "execution_count": 2,
   "id": "733a05d6",
   "metadata": {},
   "outputs": [
    {
     "data": {
      "text/plain": [
       "'\\nI am using docker and minikube setup to run redis in my laptop.\\nBelow is the pod and Deployment and service yaml file.\\n\\napiVersion: apps/v1\\nkind: Deployment\\nmetadata:\\n  name: redis-depl\\n  labels:\\n    app: redis\\nspec:\\n  replicas: 1\\n  selector:\\n    matchLabels:\\n      app: redis\\n  template:\\n    metadata:\\n      labels:\\n        app: redis\\n    spec:\\n      containers:\\n      - name: redis\\n        image: redis:8.0-M04-alpine3.21\\n        ports:\\n        - containerPort: 6379\\n\\n---\\n\\napiVersion: v1\\nkind: Service\\nmetadata:\\n  name: redis-service\\nspec:\\n  selector:\\n    app: redis\\n  type: NodePort\\n  ports:\\n    - protocol: TCP\\n      port: 6379\\n      targetPort: 6379\\n\\n      \\n>>> Apply this yaml file with > kubectl apply -f redis.yaml\\n\\n\\n>>> Iin Minikube we have to manually expose the service with > minikube service redis-service\\n\\nIt will give a random port like below:-\\nIn my case it is 41897\\n\\nminikube service redis-service\\n|-----------|---------------|-------------|---------------------------|\\n| NAMESPACE |     NAME      | TARGET PORT |            URL            |\\n|-----------|---------------|-------------|---------------------------|\\n| default   | redis-service |        6379 | http://192.168.49.2:32022 |\\n|-----------|---------------|-------------|---------------------------|\\n🏃  Starting tunnel for service redis-service.\\n|-----------|---------------|-------------|------------------------|\\n| NAMESPACE |     NAME      | TARGET PORT |          URL           |\\n|-----------|---------------|-------------|------------------------|\\n| default   | redis-service |             | http://127.0.0.1:41897 |\\n|-----------|---------------|-------------|------------------------|\\n🎉  Opening service default/redis-service in default browser...\\n👉  http://127.0.0.1:41897\\n❗  Because you are using a Docker driver on linux, the terminal needs to be open to run it.\\n\\n'"
      ]
     },
     "execution_count": 2,
     "metadata": {},
     "output_type": "execute_result"
    }
   ],
   "source": [
    "\"\"\"\n",
    "I am using docker and minikube setup to run redis in my laptop.\n",
    "Below is the pod and Deployment and service yaml file.\n",
    "\n",
    "apiVersion: apps/v1\n",
    "kind: Deployment\n",
    "metadata:\n",
    "  name: redis-depl\n",
    "  labels:\n",
    "    app: redis\n",
    "spec:\n",
    "  replicas: 1\n",
    "  selector:\n",
    "    matchLabels:\n",
    "      app: redis\n",
    "  template:\n",
    "    metadata:\n",
    "      labels:\n",
    "        app: redis\n",
    "    spec:\n",
    "      containers:\n",
    "      - name: redis\n",
    "        image: redis:8.0-M04-alpine3.21\n",
    "        ports:\n",
    "        - containerPort: 6379\n",
    "\n",
    "---\n",
    "\n",
    "apiVersion: v1\n",
    "kind: Service\n",
    "metadata:\n",
    "  name: redis-service\n",
    "spec:\n",
    "  selector:\n",
    "    app: redis\n",
    "  type: NodePort\n",
    "  ports:\n",
    "    - protocol: TCP\n",
    "      port: 6379\n",
    "      targetPort: 6379\n",
    "\n",
    "      \n",
    ">>> Apply this yaml file with > kubectl apply -f redis.yaml\n",
    "\n",
    "\n",
    ">>> Iin Minikube we have to manually expose the service with > minikube service redis-service\n",
    "\n",
    "It will give a random port like below:-\n",
    "In my case it is 41897\n",
    "\n",
    "minikube service redis-service\n",
    "|-----------|---------------|-------------|---------------------------|\n",
    "| NAMESPACE |     NAME      | TARGET PORT |            URL            |\n",
    "|-----------|---------------|-------------|---------------------------|\n",
    "| default   | redis-service |        6379 | http://192.168.49.2:32022 |\n",
    "|-----------|---------------|-------------|---------------------------|\n",
    "🏃  Starting tunnel for service redis-service.\n",
    "|-----------|---------------|-------------|------------------------|\n",
    "| NAMESPACE |     NAME      | TARGET PORT |          URL           |\n",
    "|-----------|---------------|-------------|------------------------|\n",
    "| default   | redis-service |             | http://127.0.0.1:41897 |\n",
    "|-----------|---------------|-------------|------------------------|\n",
    "🎉  Opening service default/redis-service in default browser...\n",
    "👉  http://127.0.0.1:41897\n",
    "❗  Because you are using a Docker driver on linux, the terminal needs to be open to run it.\n",
    "\n",
    "\"\"\""
   ]
  },
  {
   "cell_type": "code",
   "execution_count": 3,
   "id": "2eb60ce7",
   "metadata": {},
   "outputs": [
    {
     "name": "stdout",
     "output_type": "stream",
     "text": [
      "Requirement already satisfied: redis in c:\\users\\echekum\\python\\python313\\lib\\site-packages (5.2.1)\n",
      "Note: you may need to restart the kernel to use updated packages.\n"
     ]
    }
   ],
   "source": [
    "pip install redis"
   ]
  },
  {
   "cell_type": "code",
   "execution_count": 9,
   "id": "f876972a",
   "metadata": {},
   "outputs": [
    {
     "name": "stdout",
     "output_type": "stream",
     "text": [
      "5.2.1\n",
      "<redis.client.Redis(<redis.connection.ConnectionPool(<redis.connection.Connection(host=localhost,port=35851,db=0)>)>)>\n"
     ]
    }
   ],
   "source": [
    "import redis\n",
    "print(redis.__version__)\n",
    "\n",
    "r = redis.Redis(host='localhost', port=35851, decode_responses=True)\n",
    "print(r)"
   ]
  },
  {
   "cell_type": "code",
   "execution_count": 10,
   "id": "61ceb78f",
   "metadata": {},
   "outputs": [
    {
     "data": {
      "text/plain": [
       "[]"
      ]
     },
     "execution_count": 10,
     "metadata": {},
     "output_type": "execute_result"
    }
   ],
   "source": [
    "#To find the all available queues in Redis. In starting it will be empty.\n",
    "r.keys()"
   ]
  },
  {
   "cell_type": "code",
   "execution_count": 11,
   "id": "4bfab595",
   "metadata": {},
   "outputs": [
    {
     "data": {
      "text/plain": [
       "(1, 'list')"
      ]
     },
     "execution_count": 11,
     "metadata": {},
     "output_type": "execute_result"
    }
   ],
   "source": [
    "# Push messages in queue name 'my_queue'. Queue will be created if doesn't exist.\n",
    "r.rpush('my_queue', 'message1')\n",
    "r.exists('my_queue'), r.type('my_queue')"
   ]
  },
  {
   "cell_type": "code",
   "execution_count": 12,
   "id": "f134c506",
   "metadata": {},
   "outputs": [
    {
     "data": {
      "text/plain": [
       "['my_queue']"
      ]
     },
     "execution_count": 12,
     "metadata": {},
     "output_type": "execute_result"
    }
   ],
   "source": [
    "#To find the all available queues in Redis.\n",
    "r.keys()"
   ]
  },
  {
   "cell_type": "code",
   "execution_count": 13,
   "id": "98e43805",
   "metadata": {},
   "outputs": [
    {
     "data": {
      "text/plain": [
       "['message1']"
      ]
     },
     "execution_count": 13,
     "metadata": {},
     "output_type": "execute_result"
    }
   ],
   "source": [
    "# Read messages from my_quere from index 0 till end (-1). It is only read only operation. Will not empty the queue.\n",
    "messages = r.lrange('my_queue', 0, -1)\n",
    "messages"
   ]
  },
  {
   "cell_type": "code",
   "execution_count": 14,
   "id": "f29ba635",
   "metadata": {},
   "outputs": [
    {
     "data": {
      "text/plain": [
       "['message1']"
      ]
     },
     "execution_count": 14,
     "metadata": {},
     "output_type": "execute_result"
    }
   ],
   "source": [
    "# message is still available in queue\n",
    "messages = r.lrange('my_queue', 0, -1)\n",
    "messages"
   ]
  },
  {
   "cell_type": "code",
   "execution_count": 18,
   "id": "24703365",
   "metadata": {},
   "outputs": [
    {
     "data": {
      "text/plain": [
       "1"
      ]
     },
     "execution_count": 18,
     "metadata": {},
     "output_type": "execute_result"
    }
   ],
   "source": [
    "# Delete the Queue\n",
    "r.delete('my_queue')"
   ]
  },
  {
   "cell_type": "code",
   "execution_count": 19,
   "id": "a18f912a",
   "metadata": {},
   "outputs": [
    {
     "data": {
      "text/plain": [
       "3"
      ]
     },
     "execution_count": 19,
     "metadata": {},
     "output_type": "execute_result"
    }
   ],
   "source": [
    "# write three messages in my_queue\n",
    "r.rpush('my_queue', 'message1', 'message2', 'message3')"
   ]
  },
  {
   "cell_type": "code",
   "execution_count": 20,
   "id": "cf1534f3",
   "metadata": {},
   "outputs": [
    {
     "data": {
      "text/plain": [
       "'message1'"
      ]
     },
     "execution_count": 20,
     "metadata": {},
     "output_type": "execute_result"
    }
   ],
   "source": [
    "#lpop > Read and remove left message from the queue.\n",
    "message = r.lpop('my_queue')\n",
    "message"
   ]
  },
  {
   "cell_type": "code",
   "execution_count": 21,
   "id": "d7b30bf2",
   "metadata": {},
   "outputs": [
    {
     "data": {
      "text/plain": [
       "['message2', 'message3']"
      ]
     },
     "execution_count": 21,
     "metadata": {},
     "output_type": "execute_result"
    }
   ],
   "source": [
    "messages = r.lrange('my_queue', 0, -1)\n",
    "messages"
   ]
  },
  {
   "cell_type": "code",
   "execution_count": 26,
   "id": "2607a79a",
   "metadata": {},
   "outputs": [
    {
     "data": {
      "text/plain": [
       "3"
      ]
     },
     "execution_count": 26,
     "metadata": {},
     "output_type": "execute_result"
    }
   ],
   "source": [
    "# Delete the Queue\n",
    "r.delete('my_queue')\n",
    "\n",
    "# write three messages in my_queue\n",
    "r.rpush('my_queue', 'message1', 'message2', 'message3')"
   ]
  },
  {
   "cell_type": "code",
   "execution_count": 27,
   "id": "c7373823",
   "metadata": {},
   "outputs": [
    {
     "data": {
      "text/plain": [
       "'message3'"
      ]
     },
     "execution_count": 27,
     "metadata": {},
     "output_type": "execute_result"
    }
   ],
   "source": [
    "#rpop > Read and remove right message from the queue.\n",
    "message = r.rpop('my_queue')\n",
    "message"
   ]
  },
  {
   "cell_type": "code",
   "execution_count": 28,
   "id": "43d88be9",
   "metadata": {},
   "outputs": [
    {
     "data": {
      "text/plain": [
       "['message1', 'message2']"
      ]
     },
     "execution_count": 28,
     "metadata": {},
     "output_type": "execute_result"
    }
   ],
   "source": [
    "messages = r.lrange('my_queue', 0, -1)\n",
    "messages"
   ]
  },
  {
   "cell_type": "code",
   "execution_count": 29,
   "id": "3d7702f7",
   "metadata": {},
   "outputs": [
    {
     "data": {
      "text/plain": [
       "1"
      ]
     },
     "execution_count": 29,
     "metadata": {},
     "output_type": "execute_result"
    }
   ],
   "source": [
    "# Delete the Queue\n",
    "r.delete('my_queue')"
   ]
  },
  {
   "cell_type": "code",
   "execution_count": 30,
   "id": "6f686954",
   "metadata": {},
   "outputs": [
    {
     "data": {
      "text/plain": [
       "3"
      ]
     },
     "execution_count": 30,
     "metadata": {},
     "output_type": "execute_result"
    }
   ],
   "source": [
    "# write three messages in my_queue\n",
    "r.rpush('my_queue', 'message1', 'message2', 'message3')"
   ]
  },
  {
   "cell_type": "code",
   "execution_count": 31,
   "id": "6f270348",
   "metadata": {},
   "outputs": [
    {
     "data": {
      "text/plain": [
       "('my_queue', 'message3')"
      ]
     },
     "execution_count": 31,
     "metadata": {},
     "output_type": "execute_result"
    }
   ],
   "source": [
    "#Or in blocking mode (wait if empty):\n",
    "message = r.brpop('my_queue', timeout=0)\n",
    "message"
   ]
  },
  {
   "cell_type": "code",
   "execution_count": 32,
   "id": "f82b3c99",
   "metadata": {},
   "outputs": [
    {
     "data": {
      "text/plain": [
       "('my_queue', 'message1')"
      ]
     },
     "execution_count": 32,
     "metadata": {},
     "output_type": "execute_result"
    }
   ],
   "source": [
    "#Or in blocking mode (wait if empty):\n",
    "message = r.blpop('my_queue', timeout=0)\n",
    "message"
   ]
  },
  {
   "cell_type": "code",
   "execution_count": 33,
   "id": "bfe652a9",
   "metadata": {},
   "outputs": [
    {
     "data": {
      "text/plain": [
       "5"
      ]
     },
     "execution_count": 33,
     "metadata": {},
     "output_type": "execute_result"
    }
   ],
   "source": [
    "# Delete the Queue\n",
    "r.delete('my_queue')\n",
    "# write three messages in my_queue\n",
    "r.rpush('my_queue', 'message1', 'message2', 'message3', 'message4', 'message5')"
   ]
  },
  {
   "cell_type": "code",
   "execution_count": 34,
   "id": "d3ba799b",
   "metadata": {},
   "outputs": [
    {
     "data": {
      "text/plain": [
       "['message1', 'message2', 'message3']"
      ]
     },
     "execution_count": 34,
     "metadata": {},
     "output_type": "execute_result"
    }
   ],
   "source": [
    "# Keeps only 0, 1, 2 messages and remove rest all.\n",
    "r.ltrim('my_queue', 0 , 2 )\n",
    "messages = r.lrange('my_queue', 0, -1)\n",
    "messages"
   ]
  },
  {
   "cell_type": "code",
   "execution_count": null,
   "id": "0ab85347",
   "metadata": {},
   "outputs": [],
   "source": []
  }
 ],
 "metadata": {
  "kernelspec": {
   "display_name": "python313",
   "language": "python",
   "name": "python3"
  },
  "language_info": {
   "codemirror_mode": {
    "name": "ipython",
    "version": 3
   },
   "file_extension": ".py",
   "mimetype": "text/x-python",
   "name": "python",
   "nbconvert_exporter": "python",
   "pygments_lexer": "ipython3",
   "version": "3.13.1"
  }
 },
 "nbformat": 4,
 "nbformat_minor": 5
}
