{
 "cells": [
  {
   "cell_type": "code",
   "execution_count": 40,
   "id": "cf728247",
   "metadata": {},
   "outputs": [],
   "source": [
    "import redis\n",
    "Publisher = redis.Redis(host = \"localhost\", port = \"38443\", decode_responses = True)"
   ]
  },
  {
   "cell_type": "code",
   "execution_count": 62,
   "id": "472a5c37",
   "metadata": {},
   "outputs": [
    {
     "data": {
      "text/plain": [
       "1"
      ]
     },
     "execution_count": 62,
     "metadata": {},
     "output_type": "execute_result"
    }
   ],
   "source": [
    "Publisher.publish('my_q', \"STOP\")"
   ]
  },
  {
   "cell_type": "code",
   "execution_count": 12,
   "id": "3e76ded1",
   "metadata": {},
   "outputs": [
    {
     "data": {
      "text/plain": [
       "0"
      ]
     },
     "execution_count": 12,
     "metadata": {},
     "output_type": "execute_result"
    }
   ],
   "source": [
    "Publisher.delete('my_q')"
   ]
  },
  {
   "cell_type": "code",
   "execution_count": 24,
   "id": "ee7cc737",
   "metadata": {},
   "outputs": [
    {
     "name": "stdout",
     "output_type": "stream",
     "text": [
      "Number of subscribers on my_q: [('my_q', 1)]\n"
     ]
    }
   ],
   "source": [
    "channel_name = 'my_q'\n",
    "subscribers = r.execute_command('PUBSUB NUMSUB', channel_name)\n",
    "# Print the results\n",
    "print(f\"Number of subscribers on {channel_name}: {subscribers}\")"
   ]
  },
  {
   "cell_type": "code",
   "execution_count": null,
   "id": "231e4a53",
   "metadata": {},
   "outputs": [],
   "source": []
  }
 ],
 "metadata": {
  "kernelspec": {
   "display_name": "python313",
   "language": "python",
   "name": "python3"
  },
  "language_info": {
   "codemirror_mode": {
    "name": "ipython",
    "version": 3
   },
   "file_extension": ".py",
   "mimetype": "text/x-python",
   "name": "python",
   "nbconvert_exporter": "python",
   "pygments_lexer": "ipython3",
   "version": "3.13.1"
  }
 },
 "nbformat": 4,
 "nbformat_minor": 5
}
