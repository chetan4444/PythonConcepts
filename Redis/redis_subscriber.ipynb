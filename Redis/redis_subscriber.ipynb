{
 "cells": [
  {
   "cell_type": "code",
   "execution_count": 5,
   "id": "06124447",
   "metadata": {},
   "outputs": [],
   "source": [
    "#Non blocking - get_message()\n",
    "\n",
    "import redis\n",
    "r = redis.Redis(\"localhost\", 38443, decode_responses = True)"
   ]
  },
  {
   "cell_type": "code",
   "execution_count": 50,
   "id": "8e0192f4",
   "metadata": {},
   "outputs": [
    {
     "name": "stdout",
     "output_type": "stream",
     "text": [
      "Received message:  STOP\n",
      "Exiting the loop....\n"
     ]
    }
   ],
   "source": [
    "subscriber = r.pubsub()\n",
    "subscriber.subscribe('my_q')\n",
    "\n",
    "while True:\n",
    "    message = subscriber.get_message()\n",
    "    if message:\n",
    "        if message['type'] == 'message':\n",
    "            print(\"Received message: \", message['data'])\n",
    "\n",
    "            #Exit the loop as soon as 'STOP' message is received.\n",
    "            if message['data'] == 'STOP':\n",
    "                print(\"Exiting the loop....\")\n",
    "                break\n",
    "subscriber.close()"
   ]
  },
  {
   "cell_type": "code",
   "execution_count": 6,
   "id": "ca87e455",
   "metadata": {},
   "outputs": [
    {
     "name": "stdout",
     "output_type": "stream",
     "text": [
      "Received message:  STOP\n",
      "Exiting the loop....\n"
     ]
    }
   ],
   "source": [
    "subscriber = r.pubsub()\n",
    "subscriber.subscribe('my_q')\n",
    "\n",
    "\n",
    "for message in subscriber.listen():\n",
    "    if message['type'] == 'message':\n",
    "        print(\"Received message: \", message['data'])\n",
    "\n",
    "        #Exit the loop as soon as 'STOP' message is received.\n",
    "        if message['data'] == 'STOP':\n",
    "            print(\"Exiting the loop....\")\n",
    "            break\n",
    "subscriber.close()"
   ]
  },
  {
   "cell_type": "code",
   "execution_count": null,
   "id": "d43b8497",
   "metadata": {},
   "outputs": [],
   "source": [
    "# Class\n",
    "\n",
    "redis_config = {\n",
    "    \"host\": \"localhost\",\n",
    "    \"port\": 38443,\n",
    "    \"decode_responses\": True,\n",
    "    \"channel\": \"my_q\"\n",
    "}\n",
    "\n",
    "class redisclass:\n",
    "    def __init__(self, host, port, decode_responses, channel):\n",
    "        self.host = host\n",
    "        self.port = port\n",
    "        self.decode_responses = decode_responses\n",
    "        self.channel = channel\n",
    "        self.subscriber = None\n",
    "    \n",
    "    def connect(self):\n",
    "        self.r = redis.Redis(self.host, self.port, decode_responses = self.decode_responses)\n",
    "        return self.r\n",
    "    \n",
    "    def subscribe_(self):\n",
    "        self.connect()\n",
    "        self.subscriber = self.r.pubsub()\n",
    "        self.subscriber.subscribe(self.channel)\n",
    "        return self.subscriber\n",
    "\n",
    "    def close(self):\n",
    "        if self.subscriber:\n",
    "            self.subscriber.close()\n"
   ]
  },
  {
   "cell_type": "code",
   "execution_count": null,
   "id": "1502672d",
   "metadata": {},
   "outputs": [
    {
     "name": "stdout",
     "output_type": "stream",
     "text": [
      "STOP\n",
      "Exiting the loop...\n"
     ]
    }
   ],
   "source": [
    "# Usage with get_message()\n",
    "\n",
    "re = redisclass(**redis_config)\n",
    "re.connect()\n",
    "re_subscribe = re.subscribe_()\n",
    "while True:\n",
    "    message = re_subscribe.get_message()\n",
    "    if message:\n",
    "        if message['type'] == 'message':\n",
    "            print(message['data'])\n",
    "            if message['data'] == 'STOP':\n",
    "                print(\"Exiting the loop...\")\n",
    "                break\n"
   ]
  },
  {
   "cell_type": "code",
   "execution_count": 29,
   "id": "42814c77",
   "metadata": {},
   "outputs": [],
   "source": [
    "re.close()"
   ]
  },
  {
   "cell_type": "code",
   "execution_count": 30,
   "id": "a270be92",
   "metadata": {},
   "outputs": [],
   "source": [
    "### As it is compulsory to close the subsriber after operation is done. So I have made custom context manager.\n",
    "### In this case, we will make connection and subscribe to channel and then return the object in with context.\n",
    "\n",
    "redis_config = {\n",
    "    \"host\": \"localhost\",\n",
    "    \"port\": 38443,\n",
    "    \"decode_responses\": True,\n",
    "    \"channel\": \"my_q\"\n",
    "}\n",
    "\n",
    "class redisclass:\n",
    "    def __init__(self, host, port, decode_responses, channel):\n",
    "        self.host = host\n",
    "        self.port = port\n",
    "        self.decode_responses = decode_responses\n",
    "        self.channel = channel\n",
    "        self.subscriber = None\n",
    "    \n",
    "    def connect(self):\n",
    "        self.r = redis.Redis(self.host, self.port, decode_responses = self.decode_responses)\n",
    "        return self.r\n",
    "    \n",
    "    def subscribe_(self):\n",
    "        r = self.connect()\n",
    "        self.subscriber = r.pubsub()\n",
    "        self.subscriber.subscribe(self.channel)\n",
    "        return self.subscriber\n",
    "    \n",
    "    def __enter__(self):\n",
    "        return self.subscribe_()\n",
    "    \n",
    "    def __exit__(self, exc_type, exc_value, traceback):\n",
    "        if self.subscriber:\n",
    "            self.subscriber.close()\n",
    "            print(\"PubSub connection closed.\")\n"
   ]
  },
  {
   "cell_type": "code",
   "execution_count": 31,
   "id": "65be8734",
   "metadata": {},
   "outputs": [
    {
     "name": "stdout",
     "output_type": "stream",
     "text": [
      "Hare Krishna\n",
      "STOP\n",
      "Exiting the loop...\n",
      "PubSub connection closed.\n"
     ]
    }
   ],
   "source": [
    "with redisclass(**redis_config) as r:\n",
    "    while True:\n",
    "        message = r.get_message()\n",
    "        if message:\n",
    "            if message['type'] == 'message':\n",
    "                print(message['data'])\n",
    "                if message['data'] == 'STOP':\n",
    "                    print(\"Exiting the loop...\")\n",
    "                    break"
   ]
  },
  {
   "cell_type": "code",
   "execution_count": null,
   "id": "90594aa3",
   "metadata": {},
   "outputs": [],
   "source": [
    "### As it is compulsory to close the subsriber after operation is done. So I have made custom context manager.\n",
    "### In this case, we will make connection return the connection object in 'with context'. and on that object we will call the subscribe method.\n",
    "\n",
    "import redis\n",
    "\n",
    "redis_config = {\n",
    "    \"host\": \"localhost\",\n",
    "    \"port\": 38443,\n",
    "    \"decode_responses\": True,\n",
    "    \"channel\": \"my_q\"\n",
    "}\n",
    "\n",
    "class RedisClass:\n",
    "    def __init__(self, host, port, decode_responses, channel):\n",
    "        self.host = host\n",
    "        self.port = port\n",
    "        self.decode_responses = decode_responses\n",
    "        self.channel = channel\n",
    "        self.r = None\n",
    "        self.subscriber = None\n",
    "    \n",
    "    def connect(self):\n",
    "        if not self.r:\n",
    "            self.r = redis.Redis(self.host, self.port, decode_responses=self.decode_responses)\n",
    "        return self.r\n",
    "    \n",
    "    def subscribe_(self):\n",
    "        if not self.r:\n",
    "            self.connect()\n",
    "        self.subscriber = self.r.pubsub()\n",
    "        self.subscriber.subscribe(self.channel)\n",
    "        return self.subscriber\n",
    "    \n",
    "    def __enter__(self):\n",
    "        self.connect()\n",
    "        return self\n",
    "    \n",
    "    def __exit__(self, exc_type, exc_value, traceback):\n",
    "        if self.subscriber:\n",
    "            self.subscriber.close()\n",
    "            print(\"PubSub connection closed.\")"
   ]
  },
  {
   "cell_type": "code",
   "execution_count": 39,
   "id": "47cc1b3c",
   "metadata": {},
   "outputs": [
    {
     "name": "stdout",
     "output_type": "stream",
     "text": [
      "HARE kRISHNA\n",
      "STOP\n",
      "Exiting the loop...\n",
      "PubSub connection closed.\n"
     ]
    }
   ],
   "source": [
    "with RedisClass(**redis_config) as r:\n",
    "    subs = r.subscribe_()\n",
    "    while True:\n",
    "        message = subs.get_message()\n",
    "        if message:\n",
    "            if message['type'] == 'message':\n",
    "                print(message['data'])\n",
    "                if message['data'] == 'STOP':\n",
    "                    print(\"Exiting the loop...\")\n",
    "                    break"
   ]
  },
  {
   "cell_type": "code",
   "execution_count": 4,
   "id": "20862667",
   "metadata": {},
   "outputs": [
    {
     "name": "stdout",
     "output_type": "stream",
     "text": [
      "Received message: STOP\n",
      "Exiting the loop...\n",
      "PubSub connection closed.\n"
     ]
    }
   ],
   "source": [
    "with RedisClass(**redis_config) as r:\n",
    "    subs = r.subscribe_()\n",
    "    for message in subs.listen():\n",
    "        if message['type'] == 'message':\n",
    "            print(f\"Received message: {message['data']}\")\n",
    "            if message['data'] == 'STOP':\n",
    "                print(\"Exiting the loop...\")\n",
    "                break"
   ]
  },
  {
   "cell_type": "code",
   "execution_count": null,
   "id": "14407dd5",
   "metadata": {},
   "outputs": [],
   "source": []
  }
 ],
 "metadata": {
  "kernelspec": {
   "display_name": "python313",
   "language": "python",
   "name": "python3"
  },
  "language_info": {
   "codemirror_mode": {
    "name": "ipython",
    "version": 3
   },
   "file_extension": ".py",
   "mimetype": "text/x-python",
   "name": "python",
   "nbconvert_exporter": "python",
   "pygments_lexer": "ipython3",
   "version": "3.13.1"
  }
 },
 "nbformat": 4,
 "nbformat_minor": 5
}
