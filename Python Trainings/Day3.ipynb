{
 "cells": [
  {
   "cell_type": "code",
   "execution_count": 3,
   "id": "db63e464",
   "metadata": {},
   "outputs": [],
   "source": [
    "\"\"\" a is interest rate\n",
    "b is this. \"\"\"\n",
    "\n",
    "interest_rate = 10\n",
    "principal_amount = 100\n",
    "no_of_years = 5"
   ]
  },
  {
   "cell_type": "code",
   "execution_count": null,
   "id": "9f9eb7e7",
   "metadata": {},
   "outputs": [
    {
     "data": {
      "text/plain": [
       "' Intergers, Float, Boolean, List, Tuple, Set, Dictionary, Frozensets'"
      ]
     },
     "execution_count": 1,
     "metadata": {},
     "output_type": "execute_result"
    }
   ],
   "source": [
    "\"\"\" Intergers, Float, strings, Boolean, List, Tuple, Set, Dictionary, Frozensets\"\"\"\n",
    "\n",
    "# Immutable data types - Intergers, string, Float, Boolean, Tuple, Frozensets\n",
    "# Mutable data types - List, Set, Dictionary"
   ]
  },
  {
   "cell_type": "code",
   "execution_count": 5,
   "id": "9b221b1b",
   "metadata": {},
   "outputs": [
    {
     "data": {
      "text/plain": [
       "140704919717064"
      ]
     },
     "execution_count": 5,
     "metadata": {},
     "output_type": "execute_result"
    }
   ],
   "source": [
    "a = 10\n",
    "\n",
    "id(a)"
   ]
  },
  {
   "cell_type": "code",
   "execution_count": null,
   "id": "2076ad1d",
   "metadata": {},
   "outputs": [
    {
     "data": {
      "text/plain": [
       "140704919717384"
      ]
     },
     "execution_count": 6,
     "metadata": {},
     "output_type": "execute_result"
    }
   ],
   "source": [
    "a = 20\n",
    "\n",
    "id(a)"
   ]
  },
  {
   "cell_type": "code",
   "execution_count": 7,
   "id": "2fe37c12",
   "metadata": {},
   "outputs": [
    {
     "data": {
      "text/plain": [
       "20"
      ]
     },
     "execution_count": 7,
     "metadata": {},
     "output_type": "execute_result"
    }
   ],
   "source": [
    "a"
   ]
  },
  {
   "cell_type": "code",
   "execution_count": 8,
   "id": "64a75fd3",
   "metadata": {},
   "outputs": [],
   "source": [
    "a = 10"
   ]
  },
  {
   "cell_type": "code",
   "execution_count": 10,
   "id": "e1b2458a",
   "metadata": {},
   "outputs": [
    {
     "data": {
      "text/plain": [
       "(10, 140704919717064)"
      ]
     },
     "execution_count": 10,
     "metadata": {},
     "output_type": "execute_result"
    }
   ],
   "source": [
    "a, id(a)"
   ]
  },
  {
   "cell_type": "code",
   "execution_count": 11,
   "id": "c949f9d3",
   "metadata": {},
   "outputs": [],
   "source": [
    "del a"
   ]
  },
  {
   "cell_type": "code",
   "execution_count": 12,
   "id": "e5eb3830",
   "metadata": {},
   "outputs": [
    {
     "ename": "NameError",
     "evalue": "name 'a' is not defined",
     "output_type": "error",
     "traceback": [
      "\u001b[1;31m---------------------------------------------------------------------------\u001b[0m",
      "\u001b[1;31mNameError\u001b[0m                                 Traceback (most recent call last)",
      "Cell \u001b[1;32mIn[12], line 1\u001b[0m\n\u001b[1;32m----> 1\u001b[0m \u001b[43ma\u001b[49m\n",
      "\u001b[1;31mNameError\u001b[0m: name 'a' is not defined"
     ]
    }
   ],
   "source": [
    "a"
   ]
  },
  {
   "cell_type": "code",
   "execution_count": 13,
   "id": "9df1b4bc",
   "metadata": {},
   "outputs": [
    {
     "ename": "NameError",
     "evalue": "name 'a' is not defined",
     "output_type": "error",
     "traceback": [
      "\u001b[1;31m---------------------------------------------------------------------------\u001b[0m",
      "\u001b[1;31mNameError\u001b[0m                                 Traceback (most recent call last)",
      "Cell \u001b[1;32mIn[13], line 1\u001b[0m\n\u001b[1;32m----> 1\u001b[0m \u001b[38;5;28mid\u001b[39m(\u001b[43ma\u001b[49m)\n",
      "\u001b[1;31mNameError\u001b[0m: name 'a' is not defined"
     ]
    }
   ],
   "source": [
    "id(a)"
   ]
  },
  {
   "cell_type": "code",
   "execution_count": 14,
   "id": "6aeb37a1",
   "metadata": {},
   "outputs": [
    {
     "data": {
      "text/plain": [
       "140704919717064"
      ]
     },
     "execution_count": 14,
     "metadata": {},
     "output_type": "execute_result"
    }
   ],
   "source": [
    "a = 10\n",
    "id(a)"
   ]
  },
  {
   "cell_type": "code",
   "execution_count": 17,
   "id": "7397d586",
   "metadata": {},
   "outputs": [
    {
     "data": {
      "text/plain": [
       "140704919718344"
      ]
     },
     "execution_count": 17,
     "metadata": {},
     "output_type": "execute_result"
    }
   ],
   "source": [
    "a = 50\n",
    "id(a)"
   ]
  },
  {
   "cell_type": "code",
   "execution_count": 18,
   "id": "33ad4822",
   "metadata": {},
   "outputs": [
    {
     "data": {
      "text/plain": [
       "3020216370160"
      ]
     },
     "execution_count": 18,
     "metadata": {},
     "output_type": "execute_result"
    }
   ],
   "source": [
    "a = 5000\n",
    "id(a)"
   ]
  },
  {
   "cell_type": "code",
   "execution_count": 19,
   "id": "facbe37a",
   "metadata": {},
   "outputs": [
    {
     "data": {
      "text/plain": [
       "(140704919717064, 140704919717064)"
      ]
     },
     "execution_count": 19,
     "metadata": {},
     "output_type": "execute_result"
    }
   ],
   "source": [
    "a = 10\n",
    "b = 10\n",
    "\n",
    "id(a), id(b)"
   ]
  },
  {
   "cell_type": "code",
   "execution_count": 20,
   "id": "ed2cdf24",
   "metadata": {},
   "outputs": [],
   "source": [
    "a = \"Ram\""
   ]
  },
  {
   "cell_type": "code",
   "execution_count": 23,
   "id": "57413f3e",
   "metadata": {},
   "outputs": [
    {
     "data": {
      "text/plain": [
       "'Ram'"
      ]
     },
     "execution_count": 23,
     "metadata": {},
     "output_type": "execute_result"
    }
   ],
   "source": [
    "a"
   ]
  },
  {
   "cell_type": "code",
   "execution_count": 24,
   "id": "cc2d6f91",
   "metadata": {},
   "outputs": [],
   "source": [
    "a = 100"
   ]
  },
  {
   "cell_type": "code",
   "execution_count": 25,
   "id": "f72af0c2",
   "metadata": {},
   "outputs": [
    {
     "data": {
      "text/plain": [
       "100"
      ]
     },
     "execution_count": 25,
     "metadata": {},
     "output_type": "execute_result"
    }
   ],
   "source": [
    "a"
   ]
  },
  {
   "cell_type": "code",
   "execution_count": 31,
   "id": "eacb5fc2",
   "metadata": {},
   "outputs": [],
   "source": [
    "this_is_sagar_variable = 10000000"
   ]
  },
  {
   "cell_type": "code",
   "execution_count": 32,
   "id": "087314e9",
   "metadata": {},
   "outputs": [
    {
     "data": {
      "text/plain": [
       "10100000"
      ]
     },
     "execution_count": 32,
     "metadata": {},
     "output_type": "execute_result"
    }
   ],
   "source": [
    "profit = 100000\n",
    "net_wealth = this_is_sagar_variable + profit\n",
    "\n",
    "net_wealth"
   ]
  },
  {
   "cell_type": "code",
   "execution_count": 33,
   "id": "6494640f",
   "metadata": {},
   "outputs": [
    {
     "data": {
      "text/plain": [
       "10600000"
      ]
     },
     "execution_count": 33,
     "metadata": {},
     "output_type": "execute_result"
    }
   ],
   "source": [
    "profit = 500000\n",
    "net_wealth = net_wealth + profit\n",
    "net_wealth"
   ]
  },
  {
   "cell_type": "code",
   "execution_count": 34,
   "id": "9cce7ea1",
   "metadata": {},
   "outputs": [],
   "source": [
    "a = 100"
   ]
  },
  {
   "cell_type": "code",
   "execution_count": 39,
   "id": "27c546f2",
   "metadata": {},
   "outputs": [
    {
     "data": {
      "text/plain": [
       "10"
      ]
     },
     "execution_count": 39,
     "metadata": {},
     "output_type": "execute_result"
    }
   ],
   "source": [
    "10"
   ]
  },
  {
   "cell_type": "code",
   "execution_count": 41,
   "id": "8a01ef1e",
   "metadata": {},
   "outputs": [
    {
     "data": {
      "text/plain": [
       "int"
      ]
     },
     "execution_count": 41,
     "metadata": {},
     "output_type": "execute_result"
    }
   ],
   "source": [
    "type(10)"
   ]
  },
  {
   "cell_type": "code",
   "execution_count": 42,
   "id": "b5adf9be",
   "metadata": {},
   "outputs": [
    {
     "data": {
      "text/plain": [
       "30"
      ]
     },
     "execution_count": 42,
     "metadata": {},
     "output_type": "execute_result"
    }
   ],
   "source": [
    "(10).__add__(20)"
   ]
  },
  {
   "cell_type": "code",
   "execution_count": 43,
   "id": "b628ab23",
   "metadata": {},
   "outputs": [
    {
     "data": {
      "text/plain": [
       "'Biswanath'"
      ]
     },
     "execution_count": 43,
     "metadata": {},
     "output_type": "execute_result"
    }
   ],
   "source": [
    "'Biswanath'"
   ]
  },
  {
   "cell_type": "code",
   "execution_count": 44,
   "id": "4bfea5b7",
   "metadata": {},
   "outputs": [
    {
     "data": {
      "text/plain": [
       "str"
      ]
     },
     "execution_count": 44,
     "metadata": {},
     "output_type": "execute_result"
    }
   ],
   "source": [
    "type('Biswanath')"
   ]
  },
  {
   "cell_type": "code",
   "execution_count": 45,
   "id": "fb094194",
   "metadata": {},
   "outputs": [
    {
     "data": {
      "text/plain": [
       "'BiswaNATH'"
      ]
     },
     "execution_count": 45,
     "metadata": {},
     "output_type": "execute_result"
    }
   ],
   "source": [
    "('Biswanath').replace(\"nath\", \"NATH\")"
   ]
  },
  {
   "cell_type": "code",
   "execution_count": null,
   "id": "60de0f58",
   "metadata": {},
   "outputs": [
    {
     "data": {
      "text/plain": [
       "30"
      ]
     },
     "execution_count": 48,
     "metadata": {},
     "output_type": "execute_result"
    }
   ],
   "source": [
    "(10).__add__(20)"
   ]
  },
  {
   "cell_type": "code",
   "execution_count": 49,
   "id": "81b908c8",
   "metadata": {},
   "outputs": [
    {
     "name": "stdout",
     "output_type": "stream",
     "text": [
      "140704919717064\n",
      "140704919717704\n"
     ]
    }
   ],
   "source": [
    "a = 10\n",
    "print(id(a))\n",
    "a = 10 + 20\n",
    "print(id(a))"
   ]
  },
  {
   "cell_type": "code",
   "execution_count": 56,
   "id": "9d800c61",
   "metadata": {},
   "outputs": [
    {
     "data": {
      "text/plain": [
       "('Biswanath', 'BiswaNATH')"
      ]
     },
     "execution_count": 56,
     "metadata": {},
     "output_type": "execute_result"
    }
   ],
   "source": [
    "a = 'Biswanath'\n",
    "\n",
    "b = a.replace(\"nath\", \"NATH\")\n",
    "\n",
    "a, b"
   ]
  },
  {
   "cell_type": "code",
   "execution_count": 53,
   "id": "dfb631cd",
   "metadata": {},
   "outputs": [
    {
     "data": {
      "text/plain": [
       "(3020216782128, 3020217436784)"
      ]
     },
     "execution_count": 53,
     "metadata": {},
     "output_type": "execute_result"
    }
   ],
   "source": [
    "'Biswanath'\n",
    "\n",
    "'Biswanath'.replace(\"nath\", \"NATH\")\n",
    "\n",
    "id('Biswanath'), id('Biswanath'.replace(\"nath\", \"NATH\"))"
   ]
  },
  {
   "cell_type": "code",
   "execution_count": 68,
   "id": "82c9aaf1",
   "metadata": {},
   "outputs": [
    {
     "data": {
      "text/plain": [
       "[0, 1, 5, 10, 'Biswanath', [10, 20, 30], True]"
      ]
     },
     "execution_count": 68,
     "metadata": {},
     "output_type": "execute_result"
    }
   ],
   "source": [
    "l = [0, 1, 5, 10, 'Biswanath', [10, 20, 30], True]\n",
    "\n",
    "l"
   ]
  },
  {
   "cell_type": "code",
   "execution_count": 69,
   "id": "a53d63e9",
   "metadata": {},
   "outputs": [
    {
     "data": {
      "text/plain": [
       "3020217546624"
      ]
     },
     "execution_count": 69,
     "metadata": {},
     "output_type": "execute_result"
    }
   ],
   "source": [
    "id(l)"
   ]
  },
  {
   "cell_type": "code",
   "execution_count": 70,
   "id": "035f4904",
   "metadata": {},
   "outputs": [],
   "source": [
    "l.append(\"RAM\")"
   ]
  },
  {
   "cell_type": "code",
   "execution_count": 71,
   "id": "bfb219a9",
   "metadata": {},
   "outputs": [
    {
     "data": {
      "text/plain": [
       "3020217546624"
      ]
     },
     "execution_count": 71,
     "metadata": {},
     "output_type": "execute_result"
    }
   ],
   "source": [
    "id(l)"
   ]
  },
  {
   "cell_type": "code",
   "execution_count": 67,
   "id": "3cf0186f",
   "metadata": {},
   "outputs": [
    {
     "data": {
      "text/plain": [
       "[0, 1, 5, 10, 'Biswanath', [10, 20, 30], True, 'RAM']"
      ]
     },
     "execution_count": 67,
     "metadata": {},
     "output_type": "execute_result"
    }
   ],
   "source": [
    "l"
   ]
  },
  {
   "cell_type": "code",
   "execution_count": 82,
   "id": "225ef0b6",
   "metadata": {},
   "outputs": [
    {
     "data": {
      "text/plain": [
       "(3020217910832, 3020217911552)"
      ]
     },
     "execution_count": 82,
     "metadata": {},
     "output_type": "execute_result"
    }
   ],
   "source": [
    "a = (10, 20, 30, 40)\n",
    "b = a + (10,)\n",
    "\n",
    "id(a), id(b)"
   ]
  },
  {
   "cell_type": "code",
   "execution_count": 84,
   "id": "8df1be36",
   "metadata": {},
   "outputs": [],
   "source": [
    "user_data = (9830340071, 9830340072, \"Ram\")\n",
    "\n",
    "user_list = [\"salary\", \"job_profile\"]"
   ]
  },
  {
   "cell_type": "code",
   "execution_count": 85,
   "id": "ea03e67b",
   "metadata": {},
   "outputs": [
    {
     "data": {
      "text/plain": [
       "((9830340071, 9830340072, 'Ram'), ['salary', 'job_profile'])"
      ]
     },
     "execution_count": 85,
     "metadata": {},
     "output_type": "execute_result"
    }
   ],
   "source": [
    "user_data, user_list"
   ]
  },
  {
   "cell_type": "code",
   "execution_count": 86,
   "id": "8d9c8b1d",
   "metadata": {},
   "outputs": [
    {
     "data": {
      "text/plain": [
       "(10, 20)"
      ]
     },
     "execution_count": 86,
     "metadata": {},
     "output_type": "execute_result"
    }
   ],
   "source": [
    "10, 20"
   ]
  },
  {
   "cell_type": "code",
   "execution_count": null,
   "id": "5b22319d",
   "metadata": {},
   "outputs": [],
   "source": [
    "list, set, dic"
   ]
  },
  {
   "cell_type": "code",
   "execution_count": 87,
   "id": "8f7ab292",
   "metadata": {},
   "outputs": [
    {
     "data": {
      "text/plain": [
       "[1, 10, 20, 40, 20, 10, 50, 60, 50]"
      ]
     },
     "execution_count": 87,
     "metadata": {},
     "output_type": "execute_result"
    }
   ],
   "source": [
    "l = [1, 10, 20, 40, 20, 10, 50, 60, 50]\n",
    "\n",
    "l"
   ]
  },
  {
   "cell_type": "code",
   "execution_count": 88,
   "id": "d682a589",
   "metadata": {},
   "outputs": [
    {
     "data": {
      "text/plain": [
       "{1, 10, 20, 40, 50, 60}"
      ]
     },
     "execution_count": 88,
     "metadata": {},
     "output_type": "execute_result"
    }
   ],
   "source": [
    "s = set(l)\n",
    "s"
   ]
  },
  {
   "cell_type": "code",
   "execution_count": 89,
   "id": "744dbfb5",
   "metadata": {},
   "outputs": [
    {
     "data": {
      "text/plain": [
       "{1, 10, 20, 30}"
      ]
     },
     "execution_count": 89,
     "metadata": {},
     "output_type": "execute_result"
    }
   ],
   "source": [
    "s = {1, 10, 20, 30, 10, 1}\n",
    "s"
   ]
  },
  {
   "cell_type": "code",
   "execution_count": 90,
   "id": "78741657",
   "metadata": {},
   "outputs": [],
   "source": [
    "s.add(50)"
   ]
  },
  {
   "cell_type": "code",
   "execution_count": 91,
   "id": "af6074c4",
   "metadata": {},
   "outputs": [
    {
     "data": {
      "text/plain": [
       "{1, 10, 20, 30, 50}"
      ]
     },
     "execution_count": 91,
     "metadata": {},
     "output_type": "execute_result"
    }
   ],
   "source": [
    "s"
   ]
  },
  {
   "cell_type": "code",
   "execution_count": 92,
   "id": "4e787bf4",
   "metadata": {},
   "outputs": [],
   "source": [
    "d = {\"Name\": \"Ram\", \"Age\": 35, \"Phone no\": 9830340071}"
   ]
  },
  {
   "cell_type": "code",
   "execution_count": 94,
   "id": "29b1f801",
   "metadata": {},
   "outputs": [
    {
     "data": {
      "text/plain": [
       "'Ram'"
      ]
     },
     "execution_count": 94,
     "metadata": {},
     "output_type": "execute_result"
    }
   ],
   "source": [
    "d['Name']"
   ]
  },
  {
   "cell_type": "code",
   "execution_count": 95,
   "id": "f92727c3",
   "metadata": {},
   "outputs": [
    {
     "data": {
      "text/plain": [
       "9830340071"
      ]
     },
     "execution_count": 95,
     "metadata": {},
     "output_type": "execute_result"
    }
   ],
   "source": [
    "d[\"Phone no\"]"
   ]
  },
  {
   "cell_type": "code",
   "execution_count": 107,
   "id": "b4feff0b",
   "metadata": {},
   "outputs": [],
   "source": [
    "d = {\n",
    "    \"983\":\n",
    "    {\n",
    "        \"Name\": \"Ram\",\n",
    "        \"Age\": 35, \n",
    "        \"Phone no\": 9830340071\n",
    "        },\n",
    "\n",
    "    \"984\":\n",
    "     {\n",
    "        \"Name\": \"Shyam\",\n",
    "        \"Age\": 35, \n",
    "        \"Phone no\": 9830340071\n",
    "        }\n",
    "    }"
   ]
  },
  {
   "cell_type": "code",
   "execution_count": 102,
   "id": "1946e096",
   "metadata": {},
   "outputs": [
    {
     "data": {
      "text/plain": [
       "'Shyam'"
      ]
     },
     "execution_count": 102,
     "metadata": {},
     "output_type": "execute_result"
    }
   ],
   "source": [
    "d[\"984\"]['all_name']['Official_Name']"
   ]
  },
  {
   "cell_type": "code",
   "execution_count": 103,
   "id": "dfff893f",
   "metadata": {},
   "outputs": [
    {
     "data": {
      "text/plain": [
       "dict_keys(['983', '984'])"
      ]
     },
     "execution_count": 103,
     "metadata": {},
     "output_type": "execute_result"
    }
   ],
   "source": [
    "d.keys()"
   ]
  },
  {
   "cell_type": "code",
   "execution_count": 104,
   "id": "8a882b3a",
   "metadata": {},
   "outputs": [
    {
     "data": {
      "text/plain": [
       "dict_values([{'Name': 'Ram', 'Age': 35, 'Phone no': 9830340071}, {'all_name': {'Official_Name': 'Shyam', 'Ghar_Name': 'dadfsf'}, 'Age': 38, 'Phone no': 9830340072}])"
      ]
     },
     "execution_count": 104,
     "metadata": {},
     "output_type": "execute_result"
    }
   ],
   "source": [
    "d.values()"
   ]
  },
  {
   "cell_type": "code",
   "execution_count": 108,
   "id": "879c141e",
   "metadata": {},
   "outputs": [
    {
     "name": "stdout",
     "output_type": "stream",
     "text": [
      "Ram\n",
      "Shyam\n"
     ]
    }
   ],
   "source": [
    "for key, value in d.items():\n",
    "    print(d[key]['Name'])"
   ]
  },
  {
   "cell_type": "code",
   "execution_count": 113,
   "id": "92738489",
   "metadata": {},
   "outputs": [
    {
     "name": "stdout",
     "output_type": "stream",
     "text": [
      "Name of 983 is Ram\n",
      "Name of 984 is Shyam\n"
     ]
    }
   ],
   "source": [
    "for key, value in d.items():\n",
    "    print(\"Name of\",key, \"is\", value['Name'])"
   ]
  },
  {
   "cell_type": "code",
   "execution_count": 114,
   "id": "3aeeebac",
   "metadata": {},
   "outputs": [
    {
     "data": {
      "text/plain": [
       "dict_keys(['983', '984'])"
      ]
     },
     "execution_count": 114,
     "metadata": {},
     "output_type": "execute_result"
    }
   ],
   "source": [
    "d.keys()"
   ]
  },
  {
   "cell_type": "code",
   "execution_count": 115,
   "id": "8b7ec822",
   "metadata": {},
   "outputs": [
    {
     "data": {
      "text/plain": [
       "dict_values([{'Name': 'Ram', 'Age': 35, 'Phone no': 9830340071}, {'Name': 'Shyam', 'Age': 35, 'Phone no': 9830340071}])"
      ]
     },
     "execution_count": 115,
     "metadata": {},
     "output_type": "execute_result"
    }
   ],
   "source": [
    "d.values()"
   ]
  },
  {
   "cell_type": "code",
   "execution_count": 118,
   "id": "d104a664",
   "metadata": {},
   "outputs": [
    {
     "name": "stdout",
     "output_type": "stream",
     "text": [
      "983 Ram\n",
      "984 Shyam\n"
     ]
    }
   ],
   "source": [
    "for key, value in d.items():\n",
    "    print(key, value['Name'])"
   ]
  },
  {
   "cell_type": "code",
   "execution_count": null,
   "id": "ab66390b",
   "metadata": {},
   "outputs": [],
   "source": []
  }
 ],
 "metadata": {
  "kernelspec": {
   "display_name": "python313",
   "language": "python",
   "name": "python3"
  },
  "language_info": {
   "codemirror_mode": {
    "name": "ipython",
    "version": 3
   },
   "file_extension": ".py",
   "mimetype": "text/x-python",
   "name": "python",
   "nbconvert_exporter": "python",
   "pygments_lexer": "ipython3",
   "version": "3.13.1"
  }
 },
 "nbformat": 4,
 "nbformat_minor": 5
}
