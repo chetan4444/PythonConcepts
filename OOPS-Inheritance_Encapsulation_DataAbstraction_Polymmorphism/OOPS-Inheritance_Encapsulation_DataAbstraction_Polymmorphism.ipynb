{
 "cells": [
  {
   "cell_type": "code",
   "execution_count": null,
   "id": "e46c4177",
   "metadata": {},
   "outputs": [],
   "source": [
    "from abc import ABC, abstractmethod\n",
    "\n",
    "class Auth_base_class(ABC):\n",
    "    @abstractmethod\n",
    "    def authenticator(self, username, password):\n",
    "        pass\n",
    "\n",
    "class Pass_authentication(Auth_base_class):\n",
    "    def __init__(self):\n",
    "        self._user = {\"user1\": \"pass1\", \"user2\": \"pass2\"}\n",
    "    def authenticator(self, username, password):\n",
    "        return self._user[username] and self._user[username] == password\n",
    "\n",
    "class Otp_authentication(Auth_base_class):\n",
    "    def __init__(self):\n",
    "        self._user = {\"user1\": 5678, \"user2\": 9876}\n",
    "    def authenticator(self, username, otp):\n",
    "        return self._user[username] and self._user[username] == otp\n",
    "\n",
    "class App:\n",
    "    def __init__(self, auth: Auth_base_class):\n",
    "        self.auth = auth\n",
    "    def login(self, username, credentials):\n",
    "        if self.auth.authenticator(username, credentials):\n",
    "            print(\"Successful login\")\n",
    "        else:\n",
    "            print(\"login failure\")\n",
    "\n",
    "auth_type = Otp_authentication()\n",
    "\n",
    "user_app = App(auth_type)\n",
    "\n",
    "user_app.login(\"user1\", 5678)\n"
   ]
  }
 ],
 "metadata": {
  "language_info": {
   "name": "python"
  }
 },
 "nbformat": 4,
 "nbformat_minor": 5
}
