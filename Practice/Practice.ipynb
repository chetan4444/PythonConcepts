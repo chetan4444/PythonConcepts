{
 "cells": [
  {
   "cell_type": "code",
   "execution_count": null,
   "id": "b03c1c6c",
   "metadata": {},
   "outputs": [
    {
     "name": "stdout",
     "output_type": "stream",
     "text": [
      "nohtyp si taerg!\n"
     ]
    }
   ],
   "source": [
    "\"\"\" Given input strong \"python is great!\", Output must be - \"nohtyp si taerg!\".\n",
    "    Reverse each word in string at it's position and keep ! sign at end. No shortcut, no slicing.\n",
    "\"\"\"\n",
    "string = 'python is great!'\n",
    "\n",
    "string = string.split(\" \")\n",
    "\n",
    "string_ = []\n",
    "\n",
    "for word in string:\n",
    "    word_ = []\n",
    "    len_ = len(word) - 1\n",
    "    a = \"\"\n",
    "    for i in range(len_,-1, -1):\n",
    "        if word[i] == \"!\":\n",
    "            a = word[i]\n",
    "            continue\n",
    "        else: \n",
    "            word_.append(word[i])\n",
    "\n",
    "    word_.append(a)\n",
    "    \n",
    "    word_ = \"\".join(word_)\n",
    "\n",
    "    string_.append(word_)\n",
    "\n",
    "print(\" \".join(string_))"
   ]
  },
  {
   "cell_type": "code",
   "execution_count": null,
   "id": "bf9d2973",
   "metadata": {},
   "outputs": [],
   "source": []
  }
 ],
 "metadata": {
  "kernelspec": {
   "display_name": "python313",
   "language": "python",
   "name": "python3"
  },
  "language_info": {
   "codemirror_mode": {
    "name": "ipython",
    "version": 3
   },
   "file_extension": ".py",
   "mimetype": "text/x-python",
   "name": "python",
   "nbconvert_exporter": "python",
   "pygments_lexer": "ipython3",
   "version": "3.13.1"
  }
 },
 "nbformat": 4,
 "nbformat_minor": 5
}
