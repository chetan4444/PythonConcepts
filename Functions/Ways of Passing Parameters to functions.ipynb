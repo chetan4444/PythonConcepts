{
 "cells": [
  {
   "cell_type": "code",
   "execution_count": null,
   "id": "986eeea2",
   "metadata": {},
   "outputs": [],
   "source": [
    "#1 Positional Arguments\n",
    "def func(a, b):\n",
    "    print(a, b)"
   ]
  },
  {
   "cell_type": "code",
   "execution_count": 4,
   "id": "a831170a",
   "metadata": {},
   "outputs": [
    {
     "name": "stdout",
     "output_type": "stream",
     "text": [
      "5 10\n"
     ]
    }
   ],
   "source": [
    "func(5, 10)"
   ]
  },
  {
   "cell_type": "code",
   "execution_count": null,
   "id": "7efade81",
   "metadata": {},
   "outputs": [
    {
     "name": "stdout",
     "output_type": "stream",
     "text": [
      "5 10\n"
     ]
    }
   ],
   "source": [
    "#2 Keyword Arguments\n",
    "\n",
    "func(b=10, a = 5)"
   ]
  },
  {
   "cell_type": "code",
   "execution_count": 6,
   "id": "4a3efe32",
   "metadata": {},
   "outputs": [],
   "source": [
    "#3 default arguments\n",
    "\n",
    "def func(a=5, b=10):\n",
    "    print(a, b)"
   ]
  },
  {
   "cell_type": "code",
   "execution_count": 8,
   "id": "da57446b",
   "metadata": {},
   "outputs": [
    {
     "name": "stdout",
     "output_type": "stream",
     "text": [
      "5 10\n"
     ]
    }
   ],
   "source": [
    "# If no parameters are passed then default values will be used.\n",
    "func()"
   ]
  },
  {
   "cell_type": "code",
   "execution_count": 10,
   "id": "facdaf3a",
   "metadata": {},
   "outputs": [
    {
     "name": "stdout",
     "output_type": "stream",
     "text": [
      "20 10\n",
      "10 20\n"
     ]
    },
    {
     "data": {
      "text/plain": [
       "(None, None)"
      ]
     },
     "execution_count": 10,
     "metadata": {},
     "output_type": "execute_result"
    }
   ],
   "source": [
    "func(20, 10), func(b = 20, a = 10)\n"
   ]
  },
  {
   "cell_type": "code",
   "execution_count": 15,
   "id": "4ebabc48",
   "metadata": {},
   "outputs": [],
   "source": [
    "#4 Variable-length Arguments (*args and **kwargs)\n",
    "\n",
    "def func(*args):\n",
    "    print(args)"
   ]
  },
  {
   "cell_type": "code",
   "execution_count": 16,
   "id": "c0e26a09",
   "metadata": {},
   "outputs": [
    {
     "name": "stdout",
     "output_type": "stream",
     "text": [
      "(1, 2, 3, 4)\n"
     ]
    }
   ],
   "source": [
    "func(1, 2, 3, 4)"
   ]
  },
  {
   "cell_type": "code",
   "execution_count": 35,
   "id": "d158d37c",
   "metadata": {},
   "outputs": [],
   "source": [
    "def func(**kwargs):\n",
    "    print(kwargs)"
   ]
  },
  {
   "cell_type": "code",
   "execution_count": 36,
   "id": "694ce9bf",
   "metadata": {},
   "outputs": [
    {
     "name": "stdout",
     "output_type": "stream",
     "text": [
      "{'a': 1, 'b': 2, 'c': 3, 'd': 4}\n"
     ]
    }
   ],
   "source": [
    "func(a=1, b=2, c=3, d=4)"
   ]
  },
  {
   "cell_type": "code",
   "execution_count": 46,
   "id": "87295dd7",
   "metadata": {},
   "outputs": [],
   "source": [
    "#5. Positional-Only and Keyword-Only Parameters (Python 3.8+)\n",
    "\n",
    "def func(pos1, pos2, /, pos_key, *, kwd1, kwd2):\n",
    "    print(pos1, pos2, pos_key, kwd1, kwd2)"
   ]
  },
  {
   "cell_type": "code",
   "execution_count": 47,
   "id": "e35dbcd1",
   "metadata": {},
   "outputs": [
    {
     "name": "stdout",
     "output_type": "stream",
     "text": [
      "2 5 10 20 30\n"
     ]
    }
   ],
   "source": [
    "func(2, 5, 10, kwd1 = 20, kwd2 = 30)"
   ]
  },
  {
   "cell_type": "code",
   "execution_count": 74,
   "id": "259b3c77",
   "metadata": {},
   "outputs": [],
   "source": [
    "#6. Passing Functions or Methods as Parameters\n",
    "\n",
    "def greet(name='Greece'):\n",
    "    return f'Hello {name}.'\n",
    "\n",
    "def wishes(function_name, name=\"Greece\"):\n",
    "    print(f'{function_name(name)} Good Morning!')"
   ]
  },
  {
   "cell_type": "code",
   "execution_count": 75,
   "id": "50eee3ac",
   "metadata": {},
   "outputs": [
    {
     "data": {
      "text/plain": [
       "'Hello Ram.'"
      ]
     },
     "execution_count": 75,
     "metadata": {},
     "output_type": "execute_result"
    }
   ],
   "source": [
    "greet(\"Ram\")"
   ]
  },
  {
   "cell_type": "code",
   "execution_count": 76,
   "id": "ae7a39cd",
   "metadata": {},
   "outputs": [
    {
     "name": "stdout",
     "output_type": "stream",
     "text": [
      "Hello Ram. Good Morning!\n"
     ]
    }
   ],
   "source": [
    "wishes(greet, \"Ram\")"
   ]
  },
  {
   "cell_type": "code",
   "execution_count": 77,
   "id": "203861c6",
   "metadata": {},
   "outputs": [
    {
     "data": {
      "text/plain": [
       "'Hello Greece.'"
      ]
     },
     "execution_count": 77,
     "metadata": {},
     "output_type": "execute_result"
    }
   ],
   "source": [
    "greet()"
   ]
  },
  {
   "cell_type": "code",
   "execution_count": 78,
   "id": "e2b4a27f",
   "metadata": {},
   "outputs": [
    {
     "name": "stdout",
     "output_type": "stream",
     "text": [
      "Hello Greece. Good Morning!\n"
     ]
    }
   ],
   "source": [
    "wishes(greet)"
   ]
  },
  {
   "cell_type": "code",
   "execution_count": null,
   "id": "f47075d4",
   "metadata": {},
   "outputs": [],
   "source": []
  }
 ],
 "metadata": {
  "kernelspec": {
   "display_name": "python313",
   "language": "python",
   "name": "python3"
  },
  "language_info": {
   "codemirror_mode": {
    "name": "ipython",
    "version": 3
   },
   "file_extension": ".py",
   "mimetype": "text/x-python",
   "name": "python",
   "nbconvert_exporter": "python",
   "pygments_lexer": "ipython3",
   "version": "3.13.1"
  }
 },
 "nbformat": 4,
 "nbformat_minor": 5
}
